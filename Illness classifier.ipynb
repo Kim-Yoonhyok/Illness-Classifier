{
 "cells": [
  {
   "cell_type": "code",
   "execution_count": 4,
   "id": "d8102913",
   "metadata": {},
   "outputs": [],
   "source": [
    "import pandas as pd\n",
    "import numpy as np\n",
    "import keras\n",
    "import joblib\n",
    "import sklearn\n",
    "import sklearn.metrics\n",
    "from tensorflow.keras.models import Sequential\n",
    "from tensorflow.keras.layers import Dense\n",
    "from tensorflow.keras.utils import to_categorical\n",
    "from tensorflow.keras.models import load_model\n",
    "import sklearn.model_selection\n",
    "from sklearn.preprocessing import StandardScaler\n"
   ]
  },
  {
   "cell_type": "code",
   "execution_count": 5,
   "id": "23010e14",
   "metadata": {},
   "outputs": [
    {
     "name": "stdout",
     "output_type": "stream",
     "text": [
      "{'ALLERGY': 0, 'COLD': 1, 'COVID': 2, 'FLU': 3}\n"
     ]
    },
    {
     "data": {
      "text/plain": [
       "StandardScaler()"
      ]
     },
     "execution_count": 5,
     "metadata": {},
     "output_type": "execute_result"
    }
   ],
   "source": [
    "#Seperates input and output\n",
    "df = pd.read_csv(\"symptoms.csv\")\n",
    "\n",
    "dictionary = dict(ALLERGY = 0, COLD = 1, COVID = 2, FLU = 3)\n",
    "print(dictionary)\n",
    "\n",
    "predict = 'TYPE'\n",
    "X = df.drop(columns=predict)\n",
    "y = df[predict]\n",
    "\n",
    "colnames = X.columns\n",
    "\n",
    "#Splitting up into train and test\n",
    "X_train, X_test, y_train, y_test = sklearn.model_selection.train_test_split(X, y, test_size = 0.2)\n",
    "\n",
    "scaler = StandardScaler()\n",
    "scaler.fit(X_train)\n",
    "\n"
   ]
  },
  {
   "cell_type": "code",
   "execution_count": 16,
   "id": "086d2095",
   "metadata": {},
   "outputs": [
    {
     "name": "stdout",
     "output_type": "stream",
     "text": [
      "Epoch 1/100\n",
      "1112/1112 [==============================] - 10s 6ms/step - loss: 0.0654 - accuracy: 0.9292\n",
      "Epoch 2/100\n",
      "1112/1112 [==============================] - 7s 6ms/step - loss: 0.0508 - accuracy: 0.9315\n",
      "Epoch 3/100\n",
      "1112/1112 [==============================] - 7s 6ms/step - loss: 0.0496 - accuracy: 0.9335\n",
      "Epoch 4/100\n",
      "1112/1112 [==============================] - 7s 6ms/step - loss: 0.0493 - accuracy: 0.9330\n",
      "Epoch 5/100\n",
      "1112/1112 [==============================] - 7s 6ms/step - loss: 0.0490 - accuracy: 0.9331\n",
      "Epoch 6/100\n",
      "1112/1112 [==============================] - 7s 6ms/step - loss: 0.0488 - accuracy: 0.9316\n",
      "Epoch 7/100\n",
      "1112/1112 [==============================] - 7s 6ms/step - loss: 0.0488 - accuracy: 0.9334\n",
      "Epoch 8/100\n",
      "1112/1112 [==============================] - 7s 6ms/step - loss: 0.0486 - accuracy: 0.9324\n",
      "Epoch 9/100\n",
      "1112/1112 [==============================] - 7s 6ms/step - loss: 0.0487 - accuracy: 0.9340\n",
      "Epoch 10/100\n",
      "1112/1112 [==============================] - 7s 6ms/step - loss: 0.0486 - accuracy: 0.9334\n",
      "Epoch 11/100\n",
      "1112/1112 [==============================] - 8s 7ms/step - loss: 0.0485 - accuracy: 0.9334\n",
      "Epoch 12/100\n",
      "1112/1112 [==============================] - 7s 7ms/step - loss: 0.0486 - accuracy: 0.9314\n",
      "Epoch 13/100\n",
      "1112/1112 [==============================] - 8s 7ms/step - loss: 0.0485 - accuracy: 0.9324\n",
      "Epoch 14/100\n",
      "1112/1112 [==============================] - 7s 7ms/step - loss: 0.0484 - accuracy: 0.9329\n",
      "Epoch 15/100\n",
      "1112/1112 [==============================] - 7s 6ms/step - loss: 0.0483 - accuracy: 0.9328\n",
      "Epoch 16/100\n",
      "1112/1112 [==============================] - 7s 6ms/step - loss: 0.0484 - accuracy: 0.9323\n",
      "Epoch 17/100\n",
      "1112/1112 [==============================] - 7s 7ms/step - loss: 0.0483 - accuracy: 0.9323\n",
      "Epoch 18/100\n",
      "1112/1112 [==============================] - 7s 6ms/step - loss: 0.0482 - accuracy: 0.9327\n",
      "Epoch 19/100\n",
      "1112/1112 [==============================] - 7s 7ms/step - loss: 0.0482 - accuracy: 0.9331\n",
      "Epoch 20/100\n",
      "1112/1112 [==============================] - 7s 7ms/step - loss: 0.0482 - accuracy: 0.9318\n",
      "Epoch 21/100\n",
      "1112/1112 [==============================] - 7s 7ms/step - loss: 0.0481 - accuracy: 0.9325\n",
      "Epoch 22/100\n",
      "1112/1112 [==============================] - 7s 7ms/step - loss: 0.0482 - accuracy: 0.9317\n",
      "Epoch 23/100\n",
      "1112/1112 [==============================] - 7s 7ms/step - loss: 0.0480 - accuracy: 0.9329\n",
      "Epoch 24/100\n",
      "1112/1112 [==============================] - 7s 6ms/step - loss: 0.0480 - accuracy: 0.9343\n",
      "Epoch 25/100\n",
      "1112/1112 [==============================] - 7s 7ms/step - loss: 0.0480 - accuracy: 0.9326\n",
      "Epoch 26/100\n",
      "1112/1112 [==============================] - 7s 7ms/step - loss: 0.0478 - accuracy: 0.9337\n",
      "Epoch 27/100\n",
      "1112/1112 [==============================] - 7s 6ms/step - loss: 0.0478 - accuracy: 0.9332\n",
      "Epoch 28/100\n",
      "1112/1112 [==============================] - 7s 6ms/step - loss: 0.0478 - accuracy: 0.9335\n",
      "Epoch 29/100\n",
      "1112/1112 [==============================] - 7s 6ms/step - loss: 0.0477 - accuracy: 0.9343\n",
      "Epoch 30/100\n",
      "1112/1112 [==============================] - 7s 6ms/step - loss: 0.0478 - accuracy: 0.9352\n",
      "Epoch 31/100\n",
      "1112/1112 [==============================] - 7s 6ms/step - loss: 0.0476 - accuracy: 0.9338\n",
      "Epoch 32/100\n",
      "1112/1112 [==============================] - 7s 6ms/step - loss: 0.0477 - accuracy: 0.9341\n",
      "Epoch 33/100\n",
      "1112/1112 [==============================] - 7s 6ms/step - loss: 0.0475 - accuracy: 0.9337\n",
      "Epoch 34/100\n",
      "1112/1112 [==============================] - 7s 6ms/step - loss: 0.0475 - accuracy: 0.9336\n",
      "Epoch 35/100\n",
      "1112/1112 [==============================] - 7s 6ms/step - loss: 0.0475 - accuracy: 0.9330\n",
      "Epoch 36/100\n",
      "1112/1112 [==============================] - 7s 6ms/step - loss: 0.0475 - accuracy: 0.9335\n",
      "Epoch 37/100\n",
      "1112/1112 [==============================] - 7s 6ms/step - loss: 0.0473 - accuracy: 0.9342\n",
      "Epoch 38/100\n",
      "1112/1112 [==============================] - 7s 7ms/step - loss: 0.0474 - accuracy: 0.9334\n",
      "Epoch 39/100\n",
      "1112/1112 [==============================] - 7s 6ms/step - loss: 0.0474 - accuracy: 0.9343\n",
      "Epoch 40/100\n",
      "1112/1112 [==============================] - 7s 6ms/step - loss: 0.0474 - accuracy: 0.9337\n",
      "Epoch 41/100\n",
      "1112/1112 [==============================] - 7s 7ms/step - loss: 0.0472 - accuracy: 0.9343\n",
      "Epoch 42/100\n",
      "1112/1112 [==============================] - 8s 7ms/step - loss: 0.0474 - accuracy: 0.9336\n",
      "Epoch 43/100\n",
      "1112/1112 [==============================] - 7s 6ms/step - loss: 0.0472 - accuracy: 0.9353\n",
      "Epoch 44/100\n",
      " 374/1112 [=========>....................] - ETA: 4s - loss: 0.0470 - accuracy: 0.9358"
     ]
    },
    {
     "ename": "KeyboardInterrupt",
     "evalue": "",
     "output_type": "error",
     "traceback": [
      "\u001b[1;31m---------------------------------------------------------------------------\u001b[0m",
      "\u001b[1;31mKeyboardInterrupt\u001b[0m                         Traceback (most recent call last)",
      "\u001b[1;32m~\\AppData\\Local\\Temp\\ipykernel_11640\\2740130953.py\u001b[0m in \u001b[0;36m<module>\u001b[1;34m\u001b[0m\n\u001b[0;32m     17\u001b[0m \u001b[1;33m\u001b[0m\u001b[0m\n\u001b[0;32m     18\u001b[0m \u001b[1;31m#Fit the keras model on the dataset\u001b[0m\u001b[1;33m\u001b[0m\u001b[1;33m\u001b[0m\u001b[0m\n\u001b[1;32m---> 19\u001b[1;33m \u001b[0mmodel\u001b[0m\u001b[1;33m.\u001b[0m\u001b[0mfit\u001b[0m\u001b[1;33m(\u001b[0m\u001b[0mX_train\u001b[0m\u001b[1;33m,\u001b[0m \u001b[0my_binary\u001b[0m\u001b[1;33m,\u001b[0m \u001b[0mepochs\u001b[0m\u001b[1;33m=\u001b[0m\u001b[1;36m100\u001b[0m\u001b[1;33m,\u001b[0m \u001b[0mverbose\u001b[0m \u001b[1;33m=\u001b[0m \u001b[1;36m1\u001b[0m\u001b[1;33m)\u001b[0m\u001b[1;33m\u001b[0m\u001b[1;33m\u001b[0m\u001b[0m\n\u001b[0m\u001b[0;32m     20\u001b[0m \u001b[1;33m\u001b[0m\u001b[0m\n\u001b[0;32m     21\u001b[0m \u001b[1;31m#Saving the model\u001b[0m\u001b[1;33m\u001b[0m\u001b[1;33m\u001b[0m\u001b[0m\n",
      "\u001b[1;32m~\\anaconda3\\lib\\site-packages\\keras\\utils\\traceback_utils.py\u001b[0m in \u001b[0;36merror_handler\u001b[1;34m(*args, **kwargs)\u001b[0m\n\u001b[0;32m     63\u001b[0m         \u001b[0mfiltered_tb\u001b[0m \u001b[1;33m=\u001b[0m \u001b[1;32mNone\u001b[0m\u001b[1;33m\u001b[0m\u001b[1;33m\u001b[0m\u001b[0m\n\u001b[0;32m     64\u001b[0m         \u001b[1;32mtry\u001b[0m\u001b[1;33m:\u001b[0m\u001b[1;33m\u001b[0m\u001b[1;33m\u001b[0m\u001b[0m\n\u001b[1;32m---> 65\u001b[1;33m             \u001b[1;32mreturn\u001b[0m \u001b[0mfn\u001b[0m\u001b[1;33m(\u001b[0m\u001b[1;33m*\u001b[0m\u001b[0margs\u001b[0m\u001b[1;33m,\u001b[0m \u001b[1;33m**\u001b[0m\u001b[0mkwargs\u001b[0m\u001b[1;33m)\u001b[0m\u001b[1;33m\u001b[0m\u001b[1;33m\u001b[0m\u001b[0m\n\u001b[0m\u001b[0;32m     66\u001b[0m         \u001b[1;32mexcept\u001b[0m \u001b[0mException\u001b[0m \u001b[1;32mas\u001b[0m \u001b[0me\u001b[0m\u001b[1;33m:\u001b[0m\u001b[1;33m\u001b[0m\u001b[1;33m\u001b[0m\u001b[0m\n\u001b[0;32m     67\u001b[0m             \u001b[0mfiltered_tb\u001b[0m \u001b[1;33m=\u001b[0m \u001b[0m_process_traceback_frames\u001b[0m\u001b[1;33m(\u001b[0m\u001b[0me\u001b[0m\u001b[1;33m.\u001b[0m\u001b[0m__traceback__\u001b[0m\u001b[1;33m)\u001b[0m\u001b[1;33m\u001b[0m\u001b[1;33m\u001b[0m\u001b[0m\n",
      "\u001b[1;32m~\\anaconda3\\lib\\site-packages\\keras\\engine\\training.py\u001b[0m in \u001b[0;36mfit\u001b[1;34m(self, x, y, batch_size, epochs, verbose, callbacks, validation_split, validation_data, shuffle, class_weight, sample_weight, initial_epoch, steps_per_epoch, validation_steps, validation_batch_size, validation_freq, max_queue_size, workers, use_multiprocessing)\u001b[0m\n\u001b[0;32m   1648\u001b[0m                         ):\n\u001b[0;32m   1649\u001b[0m                             \u001b[0mcallbacks\u001b[0m\u001b[1;33m.\u001b[0m\u001b[0mon_train_batch_begin\u001b[0m\u001b[1;33m(\u001b[0m\u001b[0mstep\u001b[0m\u001b[1;33m)\u001b[0m\u001b[1;33m\u001b[0m\u001b[1;33m\u001b[0m\u001b[0m\n\u001b[1;32m-> 1650\u001b[1;33m                             \u001b[0mtmp_logs\u001b[0m \u001b[1;33m=\u001b[0m \u001b[0mself\u001b[0m\u001b[1;33m.\u001b[0m\u001b[0mtrain_function\u001b[0m\u001b[1;33m(\u001b[0m\u001b[0miterator\u001b[0m\u001b[1;33m)\u001b[0m\u001b[1;33m\u001b[0m\u001b[1;33m\u001b[0m\u001b[0m\n\u001b[0m\u001b[0;32m   1651\u001b[0m                             \u001b[1;32mif\u001b[0m \u001b[0mdata_handler\u001b[0m\u001b[1;33m.\u001b[0m\u001b[0mshould_sync\u001b[0m\u001b[1;33m:\u001b[0m\u001b[1;33m\u001b[0m\u001b[1;33m\u001b[0m\u001b[0m\n\u001b[0;32m   1652\u001b[0m                                 \u001b[0mcontext\u001b[0m\u001b[1;33m.\u001b[0m\u001b[0masync_wait\u001b[0m\u001b[1;33m(\u001b[0m\u001b[1;33m)\u001b[0m\u001b[1;33m\u001b[0m\u001b[1;33m\u001b[0m\u001b[0m\n",
      "\u001b[1;32m~\\anaconda3\\lib\\site-packages\\tensorflow\\python\\util\\traceback_utils.py\u001b[0m in \u001b[0;36merror_handler\u001b[1;34m(*args, **kwargs)\u001b[0m\n\u001b[0;32m    148\u001b[0m     \u001b[0mfiltered_tb\u001b[0m \u001b[1;33m=\u001b[0m \u001b[1;32mNone\u001b[0m\u001b[1;33m\u001b[0m\u001b[1;33m\u001b[0m\u001b[0m\n\u001b[0;32m    149\u001b[0m     \u001b[1;32mtry\u001b[0m\u001b[1;33m:\u001b[0m\u001b[1;33m\u001b[0m\u001b[1;33m\u001b[0m\u001b[0m\n\u001b[1;32m--> 150\u001b[1;33m       \u001b[1;32mreturn\u001b[0m \u001b[0mfn\u001b[0m\u001b[1;33m(\u001b[0m\u001b[1;33m*\u001b[0m\u001b[0margs\u001b[0m\u001b[1;33m,\u001b[0m \u001b[1;33m**\u001b[0m\u001b[0mkwargs\u001b[0m\u001b[1;33m)\u001b[0m\u001b[1;33m\u001b[0m\u001b[1;33m\u001b[0m\u001b[0m\n\u001b[0m\u001b[0;32m    151\u001b[0m     \u001b[1;32mexcept\u001b[0m \u001b[0mException\u001b[0m \u001b[1;32mas\u001b[0m \u001b[0me\u001b[0m\u001b[1;33m:\u001b[0m\u001b[1;33m\u001b[0m\u001b[1;33m\u001b[0m\u001b[0m\n\u001b[0;32m    152\u001b[0m       \u001b[0mfiltered_tb\u001b[0m \u001b[1;33m=\u001b[0m \u001b[0m_process_traceback_frames\u001b[0m\u001b[1;33m(\u001b[0m\u001b[0me\u001b[0m\u001b[1;33m.\u001b[0m\u001b[0m__traceback__\u001b[0m\u001b[1;33m)\u001b[0m\u001b[1;33m\u001b[0m\u001b[1;33m\u001b[0m\u001b[0m\n",
      "\u001b[1;32m~\\anaconda3\\lib\\site-packages\\tensorflow\\python\\eager\\polymorphic_function\\polymorphic_function.py\u001b[0m in \u001b[0;36m__call__\u001b[1;34m(self, *args, **kwds)\u001b[0m\n\u001b[0;32m    878\u001b[0m \u001b[1;33m\u001b[0m\u001b[0m\n\u001b[0;32m    879\u001b[0m       \u001b[1;32mwith\u001b[0m \u001b[0mOptionalXlaContext\u001b[0m\u001b[1;33m(\u001b[0m\u001b[0mself\u001b[0m\u001b[1;33m.\u001b[0m\u001b[0m_jit_compile\u001b[0m\u001b[1;33m)\u001b[0m\u001b[1;33m:\u001b[0m\u001b[1;33m\u001b[0m\u001b[1;33m\u001b[0m\u001b[0m\n\u001b[1;32m--> 880\u001b[1;33m         \u001b[0mresult\u001b[0m \u001b[1;33m=\u001b[0m \u001b[0mself\u001b[0m\u001b[1;33m.\u001b[0m\u001b[0m_call\u001b[0m\u001b[1;33m(\u001b[0m\u001b[1;33m*\u001b[0m\u001b[0margs\u001b[0m\u001b[1;33m,\u001b[0m \u001b[1;33m**\u001b[0m\u001b[0mkwds\u001b[0m\u001b[1;33m)\u001b[0m\u001b[1;33m\u001b[0m\u001b[1;33m\u001b[0m\u001b[0m\n\u001b[0m\u001b[0;32m    881\u001b[0m \u001b[1;33m\u001b[0m\u001b[0m\n\u001b[0;32m    882\u001b[0m       \u001b[0mnew_tracing_count\u001b[0m \u001b[1;33m=\u001b[0m \u001b[0mself\u001b[0m\u001b[1;33m.\u001b[0m\u001b[0mexperimental_get_tracing_count\u001b[0m\u001b[1;33m(\u001b[0m\u001b[1;33m)\u001b[0m\u001b[1;33m\u001b[0m\u001b[1;33m\u001b[0m\u001b[0m\n",
      "\u001b[1;32m~\\anaconda3\\lib\\site-packages\\tensorflow\\python\\eager\\polymorphic_function\\polymorphic_function.py\u001b[0m in \u001b[0;36m_call\u001b[1;34m(self, *args, **kwds)\u001b[0m\n\u001b[0;32m    910\u001b[0m       \u001b[1;31m# In this case we have created variables on the first call, so we run the\u001b[0m\u001b[1;33m\u001b[0m\u001b[1;33m\u001b[0m\u001b[0m\n\u001b[0;32m    911\u001b[0m       \u001b[1;31m# defunned version which is guaranteed to never create variables.\u001b[0m\u001b[1;33m\u001b[0m\u001b[1;33m\u001b[0m\u001b[0m\n\u001b[1;32m--> 912\u001b[1;33m       \u001b[1;32mreturn\u001b[0m \u001b[0mself\u001b[0m\u001b[1;33m.\u001b[0m\u001b[0m_no_variable_creation_fn\u001b[0m\u001b[1;33m(\u001b[0m\u001b[1;33m*\u001b[0m\u001b[0margs\u001b[0m\u001b[1;33m,\u001b[0m \u001b[1;33m**\u001b[0m\u001b[0mkwds\u001b[0m\u001b[1;33m)\u001b[0m  \u001b[1;31m# pylint: disable=not-callable\u001b[0m\u001b[1;33m\u001b[0m\u001b[1;33m\u001b[0m\u001b[0m\n\u001b[0m\u001b[0;32m    913\u001b[0m     \u001b[1;32melif\u001b[0m \u001b[0mself\u001b[0m\u001b[1;33m.\u001b[0m\u001b[0m_variable_creation_fn\u001b[0m \u001b[1;32mis\u001b[0m \u001b[1;32mnot\u001b[0m \u001b[1;32mNone\u001b[0m\u001b[1;33m:\u001b[0m\u001b[1;33m\u001b[0m\u001b[1;33m\u001b[0m\u001b[0m\n\u001b[0;32m    914\u001b[0m       \u001b[1;31m# Release the lock early so that multiple threads can perform the call\u001b[0m\u001b[1;33m\u001b[0m\u001b[1;33m\u001b[0m\u001b[0m\n",
      "\u001b[1;32m~\\anaconda3\\lib\\site-packages\\tensorflow\\python\\eager\\polymorphic_function\\tracing_compiler.py\u001b[0m in \u001b[0;36m__call__\u001b[1;34m(self, *args, **kwargs)\u001b[0m\n\u001b[0;32m    132\u001b[0m       (concrete_function,\n\u001b[0;32m    133\u001b[0m        filtered_flat_args) = self._maybe_define_function(args, kwargs)\n\u001b[1;32m--> 134\u001b[1;33m     return concrete_function._call_flat(\n\u001b[0m\u001b[0;32m    135\u001b[0m         filtered_flat_args, captured_inputs=concrete_function.captured_inputs)  # pylint: disable=protected-access\n\u001b[0;32m    136\u001b[0m \u001b[1;33m\u001b[0m\u001b[0m\n",
      "\u001b[1;32m~\\anaconda3\\lib\\site-packages\\tensorflow\\python\\eager\\polymorphic_function\\monomorphic_function.py\u001b[0m in \u001b[0;36m_call_flat\u001b[1;34m(self, args, captured_inputs, cancellation_manager)\u001b[0m\n\u001b[0;32m   1743\u001b[0m         and executing_eagerly):\n\u001b[0;32m   1744\u001b[0m       \u001b[1;31m# No tape is watching; skip to running the function.\u001b[0m\u001b[1;33m\u001b[0m\u001b[1;33m\u001b[0m\u001b[0m\n\u001b[1;32m-> 1745\u001b[1;33m       return self._build_call_outputs(self._inference_function.call(\n\u001b[0m\u001b[0;32m   1746\u001b[0m           ctx, args, cancellation_manager=cancellation_manager))\n\u001b[0;32m   1747\u001b[0m     forward_backward = self._select_forward_and_backward_functions(\n",
      "\u001b[1;32m~\\anaconda3\\lib\\site-packages\\tensorflow\\python\\eager\\polymorphic_function\\monomorphic_function.py\u001b[0m in \u001b[0;36mcall\u001b[1;34m(self, ctx, args, cancellation_manager)\u001b[0m\n\u001b[0;32m    376\u001b[0m       \u001b[1;32mwith\u001b[0m \u001b[0m_InterpolateFunctionError\u001b[0m\u001b[1;33m(\u001b[0m\u001b[0mself\u001b[0m\u001b[1;33m)\u001b[0m\u001b[1;33m:\u001b[0m\u001b[1;33m\u001b[0m\u001b[1;33m\u001b[0m\u001b[0m\n\u001b[0;32m    377\u001b[0m         \u001b[1;32mif\u001b[0m \u001b[0mcancellation_manager\u001b[0m \u001b[1;32mis\u001b[0m \u001b[1;32mNone\u001b[0m\u001b[1;33m:\u001b[0m\u001b[1;33m\u001b[0m\u001b[1;33m\u001b[0m\u001b[0m\n\u001b[1;32m--> 378\u001b[1;33m           outputs = execute.execute(\n\u001b[0m\u001b[0;32m    379\u001b[0m               \u001b[0mstr\u001b[0m\u001b[1;33m(\u001b[0m\u001b[0mself\u001b[0m\u001b[1;33m.\u001b[0m\u001b[0msignature\u001b[0m\u001b[1;33m.\u001b[0m\u001b[0mname\u001b[0m\u001b[1;33m)\u001b[0m\u001b[1;33m,\u001b[0m\u001b[1;33m\u001b[0m\u001b[1;33m\u001b[0m\u001b[0m\n\u001b[0;32m    380\u001b[0m               \u001b[0mnum_outputs\u001b[0m\u001b[1;33m=\u001b[0m\u001b[0mself\u001b[0m\u001b[1;33m.\u001b[0m\u001b[0m_num_outputs\u001b[0m\u001b[1;33m,\u001b[0m\u001b[1;33m\u001b[0m\u001b[1;33m\u001b[0m\u001b[0m\n",
      "\u001b[1;32m~\\anaconda3\\lib\\site-packages\\tensorflow\\python\\eager\\execute.py\u001b[0m in \u001b[0;36mquick_execute\u001b[1;34m(op_name, num_outputs, inputs, attrs, ctx, name)\u001b[0m\n\u001b[0;32m     50\u001b[0m   \u001b[1;32mtry\u001b[0m\u001b[1;33m:\u001b[0m\u001b[1;33m\u001b[0m\u001b[1;33m\u001b[0m\u001b[0m\n\u001b[0;32m     51\u001b[0m     \u001b[0mctx\u001b[0m\u001b[1;33m.\u001b[0m\u001b[0mensure_initialized\u001b[0m\u001b[1;33m(\u001b[0m\u001b[1;33m)\u001b[0m\u001b[1;33m\u001b[0m\u001b[1;33m\u001b[0m\u001b[0m\n\u001b[1;32m---> 52\u001b[1;33m     tensors = pywrap_tfe.TFE_Py_Execute(ctx._handle, device_name, op_name,\n\u001b[0m\u001b[0;32m     53\u001b[0m                                         inputs, attrs, num_outputs)\n\u001b[0;32m     54\u001b[0m   \u001b[1;32mexcept\u001b[0m \u001b[0mcore\u001b[0m\u001b[1;33m.\u001b[0m\u001b[0m_NotOkStatusException\u001b[0m \u001b[1;32mas\u001b[0m \u001b[0me\u001b[0m\u001b[1;33m:\u001b[0m\u001b[1;33m\u001b[0m\u001b[1;33m\u001b[0m\u001b[0m\n",
      "\u001b[1;31mKeyboardInterrupt\u001b[0m: "
     ]
    }
   ],
   "source": [
    "#Creating model\n",
    "m=X_train.shape[0]\n",
    "n=X_train.shape[1]\n",
    "\n",
    "#Creating the neural network model\n",
    "model = Sequential()\n",
    "model.add(Dense(128, input_shape=(n,), activation='relu'))\n",
    "model.add(Dense(256, activation = 'relu'))\n",
    "model.add(Dense(128, input_shape=(n,), activation='relu'))\n",
    "model.add(Dense(4, activation = 'sigmoid'))\n",
    "\n",
    "#Compiling the model\n",
    "model.compile(loss='binary_crossentropy', optimizer='adam', metrics=['accuracy'])\n",
    "\n",
    "#Chaning y_test into form that can be put into model\n",
    "y_binary = keras.utils.to_categorical(y_train, num_classes=4, dtype='int')\n",
    "\n",
    "#Fit the keras model on the dataset\n",
    "model.fit(X_train, y_binary, epochs=100, verbose = 1)\n",
    "\n",
    "#Saving the model\n",
    "model.save('Symptoms_Keras_Model.h5')\n",
    "\n",
    "\n",
    "\n"
   ]
  },
  {
   "cell_type": "code",
   "execution_count": 19,
   "id": "616f7ec9",
   "metadata": {},
   "outputs": [
    {
     "name": "stdout",
     "output_type": "stream",
     "text": [
      "1112/1112 [==============================] - 4s 4ms/step\n"
     ]
    }
   ],
   "source": [
    "#Making Predictions with saved model\n",
    "\n",
    "\n",
    "model = load_model(\"Symptoms_Keras_Model.h5\") #Loads model\n",
    "predictions = model.predict(X_train) #Makes Predictions\n",
    "\n",
    "\n",
    "#Converting predictions into 1s and 0s\n",
    "for i in range(m):\n",
    "    maxNum = predictions[i].max()\n",
    "    for k in range(0, 4):      \n",
    "        if predictions[i] [k] == maxNum:\n",
    "            predictions[i] [k] = 1\n",
    "        else:\n",
    "            predictions[i] [k] = 0\n",
    "    \n",
    "#Making predictions into int\n",
    "predictions = predictions.astype(int)\n",
    "\n",
    "#Calculating accuracy with training data\n",
    "accuracy = sklearn.metrics.accuracy_score(y_binary, predictions)\n",
    "print('Accuracy: {0:.2f}'.format(accuracy * 100.0))\n",
    "print('Classification Report:')\n",
    "print(sklearn.metrics.classification_report(y_binary, predictions))\n",
    "print('')"
   ]
  },
  {
   "cell_type": "code",
   "execution_count": 21,
   "id": "1a8b216f",
   "metadata": {
    "scrolled": true
   },
   "outputs": [
    {
     "name": "stdout",
     "output_type": "stream",
     "text": [
      "278/278 [==============================] - 1s 4ms/step\n",
      "Accuracy: 90.65\n",
      "Classification Report:\n",
      "              precision    recall  f1-score   support\n",
      "\n",
      "           0       0.98      0.97      0.98      3237\n",
      "           1       0.37      0.49      0.42       199\n",
      "           2       0.32      0.30      0.31       405\n",
      "           3       0.93      0.93      0.93      5050\n",
      "\n",
      "   micro avg       0.91      0.91      0.91      8891\n",
      "   macro avg       0.65      0.67      0.66      8891\n",
      "weighted avg       0.91      0.91      0.91      8891\n",
      " samples avg       0.91      0.91      0.91      8891\n",
      "\n",
      "\n"
     ]
    }
   ],
   "source": [
    "#Predictions with test data\n",
    "model = load_model(\"Symptoms_Keras_Model.h5\") #Loads model\n",
    "predictions = model.predict(X_test) #Makes Predictions\n",
    "\n",
    "\n",
    "m1=y_test.shape[0]\n",
    "y_test=np.asarray(y_test).astype('int32')\n",
    "y_binary_test = keras.utils.to_categorical(y_test, num_classes=4, dtype='int')\n",
    "#Converting predictions into 1s and 0s\n",
    "for i in range(m1):\n",
    "    maxNum = predictions[i].max()\n",
    "    for k in range(0, 4):      \n",
    "        if predictions[i] [k] == maxNum:\n",
    "            predictions[i] [k] = 1\n",
    "        else:\n",
    "            predictions[i] [k] = 0\n",
    "    \n",
    "#Making predictions into int\n",
    "predictions = predictions.astype(int)\n",
    "\n",
    "#Accuracy of predictions\n",
    "accuracy = sklearn.metrics.accuracy_score(y_binary_test, predictions)\n",
    "print('Accuracy: {0:.2f}'.format(accuracy * 100.0))\n",
    "print('Classification Report:')\n",
    "print(sklearn.metrics.classification_report(y_binary_test, predictions))\n",
    "print('')"
   ]
  },
  {
   "cell_type": "code",
   "execution_count": 22,
   "id": "08fb960c",
   "metadata": {},
   "outputs": [
    {
     "name": "stdout",
     "output_type": "stream",
     "text": [
      "Do you have  COUGH ?? Enter 1 for Yes and 0 for No-\n",
      "1\n",
      "Do you have  MUSCLE_ACHES ?? Enter 1 for Yes and 0 for No-\n",
      "1\n",
      "Do you have  TIREDNESS ?? Enter 1 for Yes and 0 for No-\n",
      "1\n",
      "Do you have  SORE_THROAT ?? Enter 1 for Yes and 0 for No-\n",
      "1\n",
      "Do you have  RUNNY_NOSE ?? Enter 1 for Yes and 0 for No-\n",
      "0\n",
      "Do you have  STUFFY_NOSE ?? Enter 1 for Yes and 0 for No-\n",
      "0\n",
      "Do you have  FEVER ?? Enter 1 for Yes and 0 for No-\n",
      "1\n",
      "Do you have  NAUSEA ?? Enter 1 for Yes and 0 for No-\n",
      "0\n",
      "Do you have  VOMITING ?? Enter 1 for Yes and 0 for No-\n",
      "0\n",
      "Do you have  DIARRHEA ?? Enter 1 for Yes and 0 for No-\n",
      "0\n",
      "Do you have  SHORTNESS_OF_BREATH ?? Enter 1 for Yes and 0 for No-\n",
      "1\n",
      "Do you have  DIFFICULTY_BREATHING ?? Enter 1 for Yes and 0 for No-\n",
      "0\n",
      "Do you have  LOSS_OF_TASTE ?? Enter 1 for Yes and 0 for No-\n",
      "1\n",
      "Do you have  LOSS_OF_SMELL ?? Enter 1 for Yes and 0 for No-\n",
      "1\n",
      "Do you have  ITCHY_NOSE ?? Enter 1 for Yes and 0 for No-\n",
      "0\n",
      "Do you have  ITCHY_EYES ?? Enter 1 for Yes and 0 for No-\n",
      "0\n",
      "Do you have  ITCHY_MOUTH ?? Enter 1 for Yes and 0 for No-\n",
      "0\n",
      "Do you have  ITCHY_INNER_EAR ?? Enter 1 for Yes and 0 for No-\n",
      "0\n",
      "Do you have  SNEEZING ?? Enter 1 for Yes and 0 for No-\n",
      "0\n",
      "Do you have  PINK_EYE ?? Enter 1 for Yes and 0 for No-\n",
      "0\n"
     ]
    },
    {
     "name": "stderr",
     "output_type": "stream",
     "text": [
      "C:\\Users\\kimyo\\anaconda3\\lib\\site-packages\\sklearn\\base.py:450: UserWarning: X does not have valid feature names, but StandardScaler was fitted with feature names\n",
      "  warnings.warn(\n"
     ]
    },
    {
     "name": "stdout",
     "output_type": "stream",
     "text": [
      "NN says you have COLD\n"
     ]
    }
   ],
   "source": [
    "# For user input \n",
    "n=colnames.shape[0]\n",
    "test_input=[]\n",
    "for i in range(n):\n",
    "    print(\"Do you have \", colnames[i], \"?? Enter 1 for Yes and 0 for No-\")\n",
    "    inp=input()\n",
    "    test_input.append(inp)\n",
    "test_input=np.asarray(test_input)\n",
    "test_input = test_input.reshape(1, -1)  #reshaping because right now shape of array is (n,) which has to be converted to (1,n)\n",
    "test_input = scaler.transform(test_input)\n",
    "key_list = list(dictionary.keys()) #make a list of keys \n",
    "val_list = list(dictionary.values()) #make a list of values \n",
    "\n",
    "# load the Neural Network model from disk\n",
    "nn_model = keras.models.load_model(\"Symptoms_Keras_Model.h5\")\n",
    "\n",
    "prediction1=nn_model(test_input) \n",
    "prediction1=np.asarray(prediction1)\n",
    "max_index_col = np.argmax(prediction1, axis=1) #find the max value in the output vector\n",
    "print(\"NN says you have\", key_list[val_list.index(max_index_col)]) #printing the key value wrt the output given by NN\n"
   ]
  }
 ],
 "metadata": {
  "kernelspec": {
   "display_name": "tensor",
   "language": "python",
   "name": "tensor"
  },
  "language_info": {
   "codemirror_mode": {
    "name": "ipython",
    "version": 3
   },
   "file_extension": ".py",
   "mimetype": "text/x-python",
   "name": "python",
   "nbconvert_exporter": "python",
   "pygments_lexer": "ipython3",
   "version": "3.9.13"
  }
 },
 "nbformat": 4,
 "nbformat_minor": 5
}
