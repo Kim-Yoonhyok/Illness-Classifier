{
 "cells": [
  {
   "cell_type": "code",
   "execution_count": 4,
   "id": "d8102913",
   "metadata": {},
   "outputs": [],
   "source": [
    "import pandas as pd\n",
    "import numpy as np\n",
    "import keras\n",
    "import joblib\n",
    "import sklearn\n",
    "import sklearn.metrics\n",
    "from tensorflow.keras.models import Sequential\n",
    "from tensorflow.keras.layers import Dense\n",
    "from tensorflow.keras.utils import to_categorical\n",
    "from tensorflow.keras.models import load_model\n",
    "import sklearn.model_selection\n",
    "from sklearn.preprocessing import StandardScaler\n"
   ]
  },
  {
   "cell_type": "code",
   "execution_count": 5,
   "id": "23010e14",
   "metadata": {},
   "outputs": [
    {
     "name": "stdout",
     "output_type": "stream",
     "text": [
      "{'ALLERGY': 0, 'COLD': 1, 'COVID': 2, 'FLU': 3}\n"
     ]
    },
    {
     "data": {
      "text/plain": [
       "StandardScaler()"
      ]
     },
     "execution_count": 5,
     "metadata": {},
     "output_type": "execute_result"
    }
   ],
   "source": [
    "#Seperates input and output\n",
    "df = pd.read_csv(\"symptoms.csv\")\n",
    "\n",
    "dictionary = dict(ALLERGY = 0, COLD = 1, COVID = 2, FLU = 3)\n",
    "print(dictionary)\n",
    "\n",
    "predict = 'TYPE'\n",
    "X = df.drop(columns=predict)\n",
    "y = df[predict]\n",
    "\n",
    "colnames = X.columns\n",
    "\n",
    "#Splitting up into train and test\n",
    "X_train, X_test, y_train, y_test = sklearn.model_selection.train_test_split(X, y, test_size = 0.2)\n",
    "\n",
    "scaler = StandardScaler()\n",
    "scaler.fit(X_train)\n",
    "\n"
   ]
  },
  {
   "cell_type": "code",
   "execution_count": 6,
   "id": "086d2095",
   "metadata": {},
   "outputs": [
    {
     "name": "stdout",
     "output_type": "stream",
     "text": [
      "Epoch 1/30\n",
      "1112/1112 [==============================] - 10s 6ms/step - loss: 0.0686 - accuracy: 0.9235\n",
      "Epoch 2/30\n",
      "1112/1112 [==============================] - 7s 6ms/step - loss: 0.0513 - accuracy: 0.9313\n",
      "Epoch 3/30\n",
      "1112/1112 [==============================] - 7s 6ms/step - loss: 0.0503 - accuracy: 0.9312\n",
      "Epoch 4/30\n",
      "1112/1112 [==============================] - 7s 6ms/step - loss: 0.0496 - accuracy: 0.9321\n",
      "Epoch 5/30\n",
      "1112/1112 [==============================] - 7s 6ms/step - loss: 0.0493 - accuracy: 0.9333\n",
      "Epoch 6/30\n",
      "1112/1112 [==============================] - 7s 6ms/step - loss: 0.0492 - accuracy: 0.9320\n",
      "Epoch 7/30\n",
      "1112/1112 [==============================] - 7s 6ms/step - loss: 0.0490 - accuracy: 0.9323\n",
      "Epoch 8/30\n",
      "1112/1112 [==============================] - 7s 6ms/step - loss: 0.0490 - accuracy: 0.9329\n",
      "Epoch 9/30\n",
      "1112/1112 [==============================] - 7s 7ms/step - loss: 0.0490 - accuracy: 0.9320\n",
      "Epoch 10/30\n",
      "1112/1112 [==============================] - 7s 6ms/step - loss: 0.0490 - accuracy: 0.9327\n",
      "Epoch 11/30\n",
      "1112/1112 [==============================] - 7s 6ms/step - loss: 0.0489 - accuracy: 0.9327\n",
      "Epoch 12/30\n",
      "1112/1112 [==============================] - 7s 6ms/step - loss: 0.0488 - accuracy: 0.9314\n",
      "Epoch 13/30\n",
      "1112/1112 [==============================] - 7s 6ms/step - loss: 0.0488 - accuracy: 0.9319\n",
      "Epoch 14/30\n",
      "1112/1112 [==============================] - 7s 6ms/step - loss: 0.0487 - accuracy: 0.9333\n",
      "Epoch 15/30\n",
      "1112/1112 [==============================] - 7s 6ms/step - loss: 0.0487 - accuracy: 0.9328\n",
      "Epoch 16/30\n",
      "1112/1112 [==============================] - 7s 6ms/step - loss: 0.0487 - accuracy: 0.9316\n",
      "Epoch 17/30\n",
      "1112/1112 [==============================] - 7s 6ms/step - loss: 0.0486 - accuracy: 0.9323\n",
      "Epoch 18/30\n",
      "1112/1112 [==============================] - 7s 6ms/step - loss: 0.0486 - accuracy: 0.9320\n",
      "Epoch 19/30\n",
      "1112/1112 [==============================] - 7s 6ms/step - loss: 0.0486 - accuracy: 0.9330\n",
      "Epoch 20/30\n",
      "1112/1112 [==============================] - 7s 7ms/step - loss: 0.0485 - accuracy: 0.9321\n",
      "Epoch 21/30\n",
      "1112/1112 [==============================] - 6s 6ms/step - loss: 0.0485 - accuracy: 0.9330\n",
      "Epoch 22/30\n",
      "1112/1112 [==============================] - 7s 6ms/step - loss: 0.0484 - accuracy: 0.9321\n",
      "Epoch 23/30\n",
      "1112/1112 [==============================] - 7s 6ms/step - loss: 0.0485 - accuracy: 0.9331\n",
      "Epoch 24/30\n",
      "1112/1112 [==============================] - 7s 6ms/step - loss: 0.0484 - accuracy: 0.9333\n",
      "Epoch 25/30\n",
      "1112/1112 [==============================] - 7s 6ms/step - loss: 0.0483 - accuracy: 0.9319\n",
      "Epoch 26/30\n",
      "1112/1112 [==============================] - 7s 6ms/step - loss: 0.0483 - accuracy: 0.9338\n",
      "Epoch 27/30\n",
      "1112/1112 [==============================] - 7s 6ms/step - loss: 0.0482 - accuracy: 0.9323\n",
      "Epoch 28/30\n",
      "1112/1112 [==============================] - 7s 6ms/step - loss: 0.0483 - accuracy: 0.9316\n",
      "Epoch 29/30\n",
      "1112/1112 [==============================] - 7s 6ms/step - loss: 0.0481 - accuracy: 0.9343\n",
      "Epoch 30/30\n",
      "1112/1112 [==============================] - 7s 6ms/step - loss: 0.0482 - accuracy: 0.9318\n"
     ]
    }
   ],
   "source": [
    "#Creating model\n",
    "m=X_train.shape[0]\n",
    "n=X_train.shape[1]\n",
    "\n",
    "#Creating the neural network model\n",
    "model = Sequential()\n",
    "model.add(Dense(128, input_shape=(n,), activation='relu'))\n",
    "model.add(Dense(256, activation = 'relu'))\n",
    "model.add(Dense(128, input_shape=(n,), activation='relu'))\n",
    "model.add(Dense(4, activation = 'sigmoid'))\n",
    "\n",
    "#Compiling the model\n",
    "model.compile(loss='binary_crossentropy', optimizer='adam', metrics=['accuracy'])\n",
    "\n",
    "#Chaning y_test into form that can be put into model\n",
    "y_binary = keras.utils.to_categorical(y_train, num_classes=4, dtype='int')\n",
    "\n",
    "#Fit the keras model on the dataset\n",
    "model.fit(X_train, y_binary, epochs=30, verbose = 1)\n",
    "\n",
    "#Saving the model\n",
    "model.save('Symptoms_Keras_Model.h5')\n",
    "\n",
    "\n",
    "\n"
   ]
  },
  {
   "cell_type": "code",
   "execution_count": 7,
   "id": "616f7ec9",
   "metadata": {},
   "outputs": [
    {
     "name": "stdout",
     "output_type": "stream",
     "text": [
      "1112/1112 [==============================] - 5s 4ms/step\n",
      "Accuracy: 93.43\n",
      "Classification Report:\n",
      "              precision    recall  f1-score   support\n",
      "\n",
      "           0       1.00      0.97      0.98     13093\n",
      "           1       0.52      0.96      0.67       815\n",
      "           2       0.52      0.33      0.40      1658\n",
      "           3       0.95      0.96      0.95     19996\n",
      "\n",
      "   micro avg       0.93      0.93      0.93     35562\n",
      "   macro avg       0.75      0.80      0.75     35562\n",
      "weighted avg       0.94      0.93      0.93     35562\n",
      " samples avg       0.93      0.93      0.93     35562\n",
      "\n",
      "\n"
     ]
    }
   ],
   "source": [
    "#Making Predictions with saved model\n",
    "\n",
    "\n",
    "model = load_model(\"Symptoms_Keras_Model.h5\") #Loads model\n",
    "predictions = model.predict(X_train) #Makes Predictions\n",
    "\n",
    "\n",
    "#Converting predictions into 1s and 0s\n",
    "for i in range(m):\n",
    "    maxNum = predictions[i].max()\n",
    "    for k in range(0, 4):      \n",
    "        if predictions[i] [k] == maxNum:\n",
    "            predictions[i] [k] = 1\n",
    "        else:\n",
    "            predictions[i] [k] = 0\n",
    "    \n",
    "#Making predictions into int\n",
    "predictions = predictions.astype(int)\n",
    "\n",
    "#Calculating accuracy with training data\n",
    "accuracy = sklearn.metrics.accuracy_score(y_binary, predictions)\n",
    "print('Accuracy: {0:.2f}'.format(accuracy * 100.0))\n",
    "print('Classification Report:')\n",
    "print(sklearn.metrics.classification_report(y_binary, predictions))\n",
    "print('')"
   ]
  },
  {
   "cell_type": "code",
   "execution_count": 8,
   "id": "1a8b216f",
   "metadata": {
    "scrolled": true
   },
   "outputs": [
    {
     "name": "stdout",
     "output_type": "stream",
     "text": [
      "278/278 [==============================] - 1s 5ms/step\n",
      "Accuracy: 92.90\n",
      "Classification Report:\n",
      "              precision    recall  f1-score   support\n",
      "\n",
      "           0       1.00      0.97      0.98      3288\n",
      "           1       0.51      0.90      0.65       209\n",
      "           2       0.40      0.26      0.31       390\n",
      "           3       0.94      0.96      0.95      5004\n",
      "\n",
      "   micro avg       0.93      0.93      0.93      8891\n",
      "   macro avg       0.71      0.77      0.72      8891\n",
      "weighted avg       0.93      0.93      0.93      8891\n",
      " samples avg       0.93      0.93      0.93      8891\n",
      "\n",
      "\n"
     ]
    }
   ],
   "source": [
    "#Predictions with test data\n",
    "model = load_model(\"Symptoms_Keras_Model.h5\") #Loads model\n",
    "predictions = model.predict(X_test) #Makes Predictions\n",
    "\n",
    "\n",
    "m1=y_test.shape[0]\n",
    "y_test=np.asarray(y_test).astype('int32')\n",
    "y_binary_test = keras.utils.to_categorical(y_test, num_classes=4, dtype='int')\n",
    "#Converting predictions into 1s and 0s\n",
    "for i in range(m1):\n",
    "    maxNum = predictions[i].max()\n",
    "    for k in range(0, 4):      \n",
    "        if predictions[i] [k] == maxNum:\n",
    "            predictions[i] [k] = 1\n",
    "        else:\n",
    "            predictions[i] [k] = 0\n",
    "    \n",
    "#Making predictions into int\n",
    "predictions = predictions.astype(int)\n",
    "\n",
    "#Accuracy of predictions\n",
    "accuracy = sklearn.metrics.accuracy_score(y_binary_test, predictions)\n",
    "print('Accuracy: {0:.2f}'.format(accuracy * 100.0))\n",
    "print('Classification Report:')\n",
    "print(sklearn.metrics.classification_report(y_binary_test, predictions))\n",
    "print('')"
   ]
  },
  {
   "cell_type": "code",
   "execution_count": null,
   "id": "08fb960c",
   "metadata": {},
   "outputs": [],
   "source": [
    "# For user input \n",
    "n=colnames.shape[0]\n",
    "test_input=[]\n",
    "for i in range(n):\n",
    "    print(\"Do you have \", colnames[i], \"?? Enter 1 for Yes and 0 for No-\")\n",
    "    inp=input()\n",
    "    test_input.append(inp)\n",
    "test_input=np.asarray(test_input)\n",
    "test_input = test_input.reshape(1, -1)  #reshaping because right now shape of array is (n,) which has to be converted to (1,n)\n",
    "test_input = scaler.transform(test_input)\n",
    "key_list = list(dictionary.keys()) #make a list of keys \n",
    "val_list = list(dictionary.values()) #make a list of values \n",
    "\n",
    "# load the Neural Network model from disk\n",
    "nn_model = keras.models.load_model(\"Symptoms_Keras_Model.h5\")\n",
    "\n",
    "prediction1=nn_model(test_input) \n",
    "prediction1=np.asarray(prediction1)\n",
    "max_index_col = np.argmax(prediction1, axis=1) #find the max value in the output vector\n",
    "print(\"NN says you have\", key_list[val_list.index(max_index_col)]) #printing the key value wrt the output given by NN\n"
   ]
  }
 ],
 "metadata": {
  "kernelspec": {
   "display_name": "tensor",
   "language": "python",
   "name": "tensor"
  },
  "language_info": {
   "codemirror_mode": {
    "name": "ipython",
    "version": 3
   },
   "file_extension": ".py",
   "mimetype": "text/x-python",
   "name": "python",
   "nbconvert_exporter": "python",
   "pygments_lexer": "ipython3",
   "version": "3.9.13"
  }
 },
 "nbformat": 4,
 "nbformat_minor": 5
}
